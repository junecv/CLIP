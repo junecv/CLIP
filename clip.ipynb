{
 "cells": [
  {
   "cell_type": "markdown",
   "id": "fafda071-db2e-4eb0-b9a7-f3bd97a49c3e",
   "metadata": {
    "tags": []
   },
   "source": [
    "### Prep"
   ]
  },
  {
   "cell_type": "code",
   "execution_count": 1,
   "id": "b5660a1f-b483-404c-a153-ca1a877c7fb5",
   "metadata": {},
   "outputs": [
    {
     "name": "stdout",
     "output_type": "stream",
     "text": [
      "\u001b[33mWARNING: Running pip as the 'root' user can result in broken permissions and conflicting behaviour with the system package manager. It is recommended to use a virtual environment instead: https://pip.pypa.io/warnings/venv\u001b[0m\n",
      "\u001b[33mWARNING: Running pip as the 'root' user can result in broken permissions and conflicting behaviour with the system package manager. It is recommended to use a virtual environment instead: https://pip.pypa.io/warnings/venv\u001b[0m\n"
     ]
    }
   ],
   "source": [
    "# install\n",
    "\n",
    "!pip install -q ftfy regex tqdm pandas\n",
    "!pip install -q git+https://github.com/openai/CLIP.git"
   ]
  },
  {
   "cell_type": "code",
   "execution_count": 2,
   "id": "f176e53b-d4ef-4213-bc01-d422882d84e5",
   "metadata": {},
   "outputs": [
    {
     "name": "stdout",
     "output_type": "stream",
     "text": [
      "GPU 0: NVIDIA GeForce RTX 3080 (UUID: GPU-fc83ed6e-2e20-2518-fccc-97b999d65d26)\n"
     ]
    }
   ],
   "source": [
    "# check GPU\n",
    "\n",
    "!nvidia-smi -L"
   ]
  },
  {
   "cell_type": "code",
   "execution_count": 3,
   "id": "c3a5245e-f4ce-4a1b-817a-ae19a7335852",
   "metadata": {},
   "outputs": [],
   "source": [
    "# imports\n",
    "\n",
    "import numpy as np\n",
    "import pandas as pd\n",
    "import string\n",
    "import time\n",
    "import gc\n",
    "import re\n",
    "import os\n",
    "import torch\n",
    "import clip\n",
    "from PIL import Image"
   ]
  },
  {
   "cell_type": "code",
   "execution_count": 4,
   "id": "a1a8ff6f-632b-4e3b-bfa2-bcadbd7a97a7",
   "metadata": {},
   "outputs": [],
   "source": [
    "# #@title ground truth\n",
    "\n",
    "# truth = pd.read_csv('/workspace/LOC_val_solution.csv')\n",
    "# truth = truth.sort_values(by = 'ImageId')\n",
    "# truth['synset_labels'] = truth['PredictionString'].map(lambda x: [y for y in x.split(' ') if (y != '' and y[0] == 'n')])\n",
    "# truth = truth.reset_index(drop = True)"
   ]
  },
  {
   "cell_type": "code",
   "execution_count": 5,
   "id": "7a82ed4f-954d-4507-8440-255bf1bb30b4",
   "metadata": {},
   "outputs": [],
   "source": [
    "# #@title ground truth\n",
    "\n",
    "truth = pd.read_csv('/workspace/LOC_val_solution.csv')\n",
    "truth = truth.sort_values(by = 'ImageId')\n",
    "truth['synset_labels'] = truth['PredictionString'].map(lambda x: list(set([y for y in x.split(' ') if (y != '' and y[0] == 'n')]))[0])\n",
    "truth = truth.reset_index(drop = True)"
   ]
  },
  {
   "cell_type": "code",
   "execution_count": 6,
   "id": "9103585a-3750-4748-a412-3ba6fe80cc5a",
   "metadata": {},
   "outputs": [],
   "source": [
    "#@title image files\n",
    "\n",
    "IMG_PATH = '/workspace/ILSVRC2012_img_val/'\n",
    "filenames = truth['ImageId'].map(lambda x: f'{IMG_PATH}{x}.JPEG').reset_index(drop = True)"
   ]
  },
  {
   "cell_type": "code",
   "execution_count": 7,
   "id": "e4d65da3-5eb3-4f50-8530-df134a0dcf94",
   "metadata": {},
   "outputs": [
    {
     "data": {
      "text/plain": [
       "50000"
      ]
     },
     "execution_count": 7,
     "metadata": {},
     "output_type": "execute_result"
    }
   ],
   "source": [
    "len(filenames)"
   ]
  },
  {
   "cell_type": "code",
   "execution_count": 8,
   "id": "89b19a26-03bb-4215-a2c0-e41f0d097778",
   "metadata": {},
   "outputs": [],
   "source": [
    "#@title count total num of parameters\n",
    "\n",
    "def count_parameters(model):\n",
    "    return sum(p.numel() for p in model.parameters() if p.requires_grad)"
   ]
  },
  {
   "cell_type": "code",
   "execution_count": 9,
   "id": "07a08f22-e295-4c32-b8ba-72f963dba1e3",
   "metadata": {},
   "outputs": [
    {
     "data": {
      "text/html": [
       "<div>\n",
       "<style scoped>\n",
       "    .dataframe tbody tr th:only-of-type {\n",
       "        vertical-align: middle;\n",
       "    }\n",
       "\n",
       "    .dataframe tbody tr th {\n",
       "        vertical-align: top;\n",
       "    }\n",
       "\n",
       "    .dataframe thead th {\n",
       "        text-align: right;\n",
       "    }\n",
       "</style>\n",
       "<table border=\"1\" class=\"dataframe\">\n",
       "  <thead>\n",
       "    <tr style=\"text-align: right;\">\n",
       "      <th></th>\n",
       "      <th>mapping</th>\n",
       "      <th>synset</th>\n",
       "      <th>words</th>\n",
       "    </tr>\n",
       "  </thead>\n",
       "  <tbody>\n",
       "    <tr>\n",
       "      <th>0</th>\n",
       "      <td>[n01440764, tench, Tinca tinca]</td>\n",
       "      <td>n01440764</td>\n",
       "      <td>tench tinca tinca</td>\n",
       "    </tr>\n",
       "    <tr>\n",
       "      <th>1</th>\n",
       "      <td>[n01443537, goldfish, Carassius auratus]</td>\n",
       "      <td>n01443537</td>\n",
       "      <td>goldfish carassius auratus</td>\n",
       "    </tr>\n",
       "    <tr>\n",
       "      <th>2</th>\n",
       "      <td>[n01484850, great white shark, white shark, ma...</td>\n",
       "      <td>n01484850</td>\n",
       "      <td>great white shark white shark man-eater man-ea...</td>\n",
       "    </tr>\n",
       "    <tr>\n",
       "      <th>3</th>\n",
       "      <td>[n01491361, tiger shark, Galeocerdo cuvieri]</td>\n",
       "      <td>n01491361</td>\n",
       "      <td>tiger shark galeocerdo cuvieri</td>\n",
       "    </tr>\n",
       "    <tr>\n",
       "      <th>4</th>\n",
       "      <td>[n01494475, hammerhead, hammerhead shark]</td>\n",
       "      <td>n01494475</td>\n",
       "      <td>hammerhead hammerhead shark</td>\n",
       "    </tr>\n",
       "    <tr>\n",
       "      <th>...</th>\n",
       "      <td>...</td>\n",
       "      <td>...</td>\n",
       "      <td>...</td>\n",
       "    </tr>\n",
       "    <tr>\n",
       "      <th>995</th>\n",
       "      <td>[n13044778, earthstar]</td>\n",
       "      <td>n13044778</td>\n",
       "      <td>earthstar</td>\n",
       "    </tr>\n",
       "    <tr>\n",
       "      <th>996</th>\n",
       "      <td>[n13052670, hen-of-the-woods, hen of the woods...</td>\n",
       "      <td>n13052670</td>\n",
       "      <td>hen-of-the-woods hen of the woods polyporus fr...</td>\n",
       "    </tr>\n",
       "    <tr>\n",
       "      <th>997</th>\n",
       "      <td>[n13054560, bolete]</td>\n",
       "      <td>n13054560</td>\n",
       "      <td>bolete</td>\n",
       "    </tr>\n",
       "    <tr>\n",
       "      <th>998</th>\n",
       "      <td>[n13133613, ear, spike, capitulum]</td>\n",
       "      <td>n13133613</td>\n",
       "      <td>ear spike capitulum</td>\n",
       "    </tr>\n",
       "    <tr>\n",
       "      <th>999</th>\n",
       "      <td>[n15075141, toilet tissue, toilet paper, bathr...</td>\n",
       "      <td>n15075141</td>\n",
       "      <td>toilet tissue toilet paper bathroom tissue</td>\n",
       "    </tr>\n",
       "  </tbody>\n",
       "</table>\n",
       "<p>1000 rows × 3 columns</p>\n",
       "</div>"
      ],
      "text/plain": [
       "                                               mapping     synset  \\\n",
       "0                      [n01440764, tench, Tinca tinca]  n01440764   \n",
       "1             [n01443537, goldfish, Carassius auratus]  n01443537   \n",
       "2    [n01484850, great white shark, white shark, ma...  n01484850   \n",
       "3         [n01491361, tiger shark, Galeocerdo cuvieri]  n01491361   \n",
       "4            [n01494475, hammerhead, hammerhead shark]  n01494475   \n",
       "..                                                 ...        ...   \n",
       "995                             [n13044778, earthstar]  n13044778   \n",
       "996  [n13052670, hen-of-the-woods, hen of the woods...  n13052670   \n",
       "997                                [n13054560, bolete]  n13054560   \n",
       "998                 [n13133613, ear, spike, capitulum]  n13133613   \n",
       "999  [n15075141, toilet tissue, toilet paper, bathr...  n15075141   \n",
       "\n",
       "                                                 words  \n",
       "0                                    tench tinca tinca  \n",
       "1                           goldfish carassius auratus  \n",
       "2    great white shark white shark man-eater man-ea...  \n",
       "3                       tiger shark galeocerdo cuvieri  \n",
       "4                          hammerhead hammerhead shark  \n",
       "..                                                 ...  \n",
       "995                                          earthstar  \n",
       "996  hen-of-the-woods hen of the woods polyporus fr...  \n",
       "997                                             bolete  \n",
       "998                                ear spike capitulum  \n",
       "999         toilet tissue toilet paper bathroom tissue  \n",
       "\n",
       "[1000 rows x 3 columns]"
      ]
     },
     "execution_count": 9,
     "metadata": {},
     "output_type": "execute_result"
    }
   ],
   "source": [
    "#@title synset labels mapping\n",
    "\n",
    "PATH = '/workspace/synset_words.txt'\n",
    "\n",
    "with open(PATH) as f:\n",
    "    lines = [line.rstrip() for line in f]\n",
    "\n",
    "synset_labels = pd.Series(lines).map(lambda x: x.split(' ', 1))\n",
    "synset_labels = pd.DataFrame(synset_labels, columns = ['mapping'])\n",
    "synset_labels['synset'] = synset_labels['mapping'].map(lambda x: x[0])\n",
    "synset_labels['words'] = synset_labels['mapping'].map(lambda x: x[1].lower().translate(str.maketrans('', '', re.sub('\\-', '', string.punctuation))))\n",
    "synset_labels"
   ]
  },
  {
   "cell_type": "code",
   "execution_count": 10,
   "id": "0485543b-0c80-463a-b493-e47c0c53b875",
   "metadata": {},
   "outputs": [
    {
     "data": {
      "text/plain": [
       "['RN50',\n",
       " 'RN101',\n",
       " 'RN50x4',\n",
       " 'RN50x16',\n",
       " 'RN50x64',\n",
       " 'ViT-B/32',\n",
       " 'ViT-B/16',\n",
       " 'ViT-L/14',\n",
       " 'ViT-L/14@336px']"
      ]
     },
     "execution_count": 10,
     "metadata": {},
     "output_type": "execute_result"
    }
   ],
   "source": [
    "#@title pretrained official CLIP models\n",
    "\n",
    "clip.available_models()"
   ]
  },
  {
   "cell_type": "code",
   "execution_count": 11,
   "id": "68944caf-ab2f-43a6-ba4d-aa879491369b",
   "metadata": {},
   "outputs": [],
   "source": [
    "# #@title inferrance pipeline\n",
    "\n",
    "# def infer_pipe(pretrained_model, exp, N = 1000, target = 'words', num_batch = 50, filenames = filenames):\n",
    "    \n",
    "#     if not os.path.exists(f'/workspace/preds_{exp}'):\n",
    "#         os.mkdir(f'/workspace/preds_{exp}')\n",
    "\n",
    "#     device = \"cuda\" if torch.cuda.is_available() else \"cpu\"\n",
    "#     model, preprocess = clip.load(str(pretrained_model), device=device)\n",
    "#     print(f'total number of parameters: {count_parameters(model)}.')\n",
    "\n",
    "#     labels = synset_labels[target]\n",
    "\n",
    "#     with torch.no_grad():\n",
    "#       text = clip.tokenize(labels).to(device)\n",
    "#       text_features = model.encode_text(text)\n",
    "\n",
    "#       for i in range(num_batch):\n",
    "\n",
    "#         preds = []\n",
    "\n",
    "#         start = time.time()\n",
    "\n",
    "#         for j in range(i * N, i * N + N):\n",
    "\n",
    "#           PATH = filenames[j]\n",
    "#           image = preprocess(Image.open(str(PATH))).unsqueeze(0).to(device)\n",
    "\n",
    "#           image_features = model.encode_image(image)\n",
    "\n",
    "#           logits_per_image, logits_per_text = model(image, text)\n",
    "#           probs = logits_per_image.softmax(dim=-1).cpu().numpy()\n",
    "\n",
    "#           preds.append(probs[0])\n",
    "\n",
    "#         preds_batch = pd.DataFrame(preds)\n",
    "#         preds_batch.to_csv(f'/workspace/preds_{exp}/preds_{i+1}k.csv', index=False)\n",
    "#         duration = time.time() - start\n",
    "#         print(f'preds_{i+1}k.csv saved!', duration)\n",
    "\n",
    "#         image, image_features, preds_batch = None, None, None\n",
    "#         gc.collect()\n",
    "\n",
    "#@title inferrance pipeline\n",
    "\n",
    "def infer_pipe(pretrained_model, exp, N = 1000, target = 'words', num_batch = 50, filenames = filenames):\n",
    "    \n",
    "    if not os.path.exists(f'/workspace/preds_{exp}'):\n",
    "        os.mkdir(f'/workspace/preds_{exp}')\n",
    "\n",
    "    device = \"cuda\" if torch.cuda.is_available() else \"cpu\"\n",
    "    model, preprocess = clip.load(str(pretrained_model), device=device)\n",
    "    print(f'total number of parameters: {count_parameters(model)}.')\n",
    "\n",
    "    labels = synset_labels[target]\n",
    "\n",
    "    with torch.no_grad():\n",
    "      text = clip.tokenize(labels).to(device)\n",
    "      text_features = model.encode_text(text)\n",
    "\n",
    "      for i in range(num_batch):\n",
    "        \n",
    "        preds = []\n",
    "        \n",
    "        start = time.time()\n",
    "\n",
    "        for j in range(i * N, i * N + N):\n",
    "        # for j in filenames.index:\n",
    "\n",
    "          PATH = filenames[j]\n",
    "          image = preprocess(Image.open(str(PATH))).unsqueeze(0).to(device)\n",
    "\n",
    "          image_features = model.encode_image(image)\n",
    "\n",
    "          logits_per_image, logits_per_text = model(image, text)\n",
    "          probs = logits_per_image.softmax(dim=-1).cpu().numpy()\n",
    "\n",
    "          preds.append(probs[0])\n",
    "\n",
    "        preds_batch = pd.DataFrame(preds)\n",
    "        preds_batch.to_csv(f'/workspace/preds_{exp}/preds_{i+1}k.csv', index=False)\n",
    "        duration = time.time() - start\n",
    "        print(f'preds_{i+1}k.csv saved!', duration)\n",
    "\n",
    "        image, image_features, preds_batch = None, None, None\n",
    "        gc.collect()"
   ]
  },
  {
   "cell_type": "code",
   "execution_count": 1,
   "id": "0cc96cb7-64af-49e4-9dbb-35b6d5fc9467",
   "metadata": {},
   "outputs": [],
   "source": [
    "# #@title other utility\n",
    "\n",
    "# import shutil\n",
    "\n",
    "# shutil.rmtree('/workspace/preds_09')"
   ]
  },
  {
   "cell_type": "markdown",
   "id": "cf61ac7f-4460-42a1-b9c1-b7e3a3e96034",
   "metadata": {
    "tags": []
   },
   "source": [
    "### Experiment 1"
   ]
  },
  {
   "cell_type": "code",
   "execution_count": 9,
   "id": "c2bebfcb-2140-42b9-985f-66bb93a094b0",
   "metadata": {},
   "outputs": [
    {
     "name": "stderr",
     "output_type": "stream",
     "text": [
      "100%|███████████████████████████████████████| 338M/338M [00:15<00:00, 22.6MiB/s]\n"
     ]
    }
   ],
   "source": [
    "#@title set device & create model\n",
    "\n",
    "device = \"cuda\" if torch.cuda.is_available() else \"cpu\"\n",
    "model, preprocess = clip.load(\"ViT-B/32\", device=device)"
   ]
  },
  {
   "cell_type": "code",
   "execution_count": 23,
   "id": "b78be8be-2422-4d32-8b8e-917d175b3a4f",
   "metadata": {},
   "outputs": [
    {
     "name": "stdout",
     "output_type": "stream",
     "text": [
      "preds_1k.csv saved! 2.511321544647217\n",
      "preds_2k.csv saved! 2.470968246459961\n"
     ]
    }
   ],
   "source": [
    "#@title CLIP classifier examples\n",
    "\n",
    "N = 1000\n",
    "\n",
    "labels = synset_labels['words']\n",
    "text = clip.tokenize(labels).to(device)\n",
    "\n",
    "with torch.no_grad():\n",
    "  text_features = model.encode_text(text)\n",
    "  \n",
    "  for i in range(50):\n",
    "    \n",
    "    preds = []\n",
    "\n",
    "    start = time.time()\n",
    "    \n",
    "    for j in range(i * N, i * N + N):\n",
    "\n",
    "      PATH = filenames[j]\n",
    "      image = preprocess(Image.open(str(PATH))).unsqueeze(0).to(device)\n",
    "\n",
    "      image_features = model.encode_image(image)\n",
    "      \n",
    "      logits_per_image, logits_per_text = model(image, text)\n",
    "      probs = logits_per_image.softmax(dim=-1).cpu().numpy()\n",
    "\n",
    "      preds.append(probs[0])\n",
    "    \n",
    "    preds_batch = pd.DataFrame(preds)\n",
    "    preds_batch.to_csv(f'/workspace/preds_01/preds_{i+1}k.csv', index=False)\n",
    "    duration = time.time() - start\n",
    "    print(f'preds_{i+1}k.csv saved!', duration)\n",
    "    \n",
    "    image, image_features, preds_batch = None, None, None\n",
    "    gc.collect()"
   ]
  },
  {
   "cell_type": "markdown",
   "id": "f7933c54-048e-4678-9367-684a3f598611",
   "metadata": {
    "tags": []
   },
   "source": [
    "### Experiment 2"
   ]
  },
  {
   "cell_type": "code",
   "execution_count": 6,
   "id": "d37c4d7c-1e98-47ba-a45d-9eb88d82f60b",
   "metadata": {},
   "outputs": [
    {
     "data": {
      "text/html": [
       "<div>\n",
       "<style scoped>\n",
       "    .dataframe tbody tr th:only-of-type {\n",
       "        vertical-align: middle;\n",
       "    }\n",
       "\n",
       "    .dataframe tbody tr th {\n",
       "        vertical-align: top;\n",
       "    }\n",
       "\n",
       "    .dataframe thead th {\n",
       "        text-align: right;\n",
       "    }\n",
       "</style>\n",
       "<table border=\"1\" class=\"dataframe\">\n",
       "  <thead>\n",
       "    <tr style=\"text-align: right;\">\n",
       "      <th></th>\n",
       "      <th>mapping</th>\n",
       "      <th>synset</th>\n",
       "      <th>words</th>\n",
       "      <th>single_term</th>\n",
       "    </tr>\n",
       "  </thead>\n",
       "  <tbody>\n",
       "    <tr>\n",
       "      <th>0</th>\n",
       "      <td>[n01440764, tench, Tinca tinca]</td>\n",
       "      <td>n01440764</td>\n",
       "      <td>tench, tinca tinca</td>\n",
       "      <td>tench</td>\n",
       "    </tr>\n",
       "    <tr>\n",
       "      <th>1</th>\n",
       "      <td>[n01443537, goldfish, Carassius auratus]</td>\n",
       "      <td>n01443537</td>\n",
       "      <td>goldfish, carassius auratus</td>\n",
       "      <td>goldfish</td>\n",
       "    </tr>\n",
       "    <tr>\n",
       "      <th>2</th>\n",
       "      <td>[n01484850, great white shark, white shark, ma...</td>\n",
       "      <td>n01484850</td>\n",
       "      <td>great white shark, white shark, man-eater, man...</td>\n",
       "      <td>great white shark</td>\n",
       "    </tr>\n",
       "    <tr>\n",
       "      <th>3</th>\n",
       "      <td>[n01491361, tiger shark, Galeocerdo cuvieri]</td>\n",
       "      <td>n01491361</td>\n",
       "      <td>tiger shark, galeocerdo cuvieri</td>\n",
       "      <td>tiger shark</td>\n",
       "    </tr>\n",
       "    <tr>\n",
       "      <th>4</th>\n",
       "      <td>[n01494475, hammerhead, hammerhead shark]</td>\n",
       "      <td>n01494475</td>\n",
       "      <td>hammerhead, hammerhead shark</td>\n",
       "      <td>hammerhead</td>\n",
       "    </tr>\n",
       "    <tr>\n",
       "      <th>...</th>\n",
       "      <td>...</td>\n",
       "      <td>...</td>\n",
       "      <td>...</td>\n",
       "      <td>...</td>\n",
       "    </tr>\n",
       "    <tr>\n",
       "      <th>995</th>\n",
       "      <td>[n13044778, earthstar]</td>\n",
       "      <td>n13044778</td>\n",
       "      <td>earthstar</td>\n",
       "      <td>earthstar</td>\n",
       "    </tr>\n",
       "    <tr>\n",
       "      <th>996</th>\n",
       "      <td>[n13052670, hen-of-the-woods, hen of the woods...</td>\n",
       "      <td>n13052670</td>\n",
       "      <td>hen-of-the-woods, hen of the woods, polyporus ...</td>\n",
       "      <td>hen-of-the-woods</td>\n",
       "    </tr>\n",
       "    <tr>\n",
       "      <th>997</th>\n",
       "      <td>[n13054560, bolete]</td>\n",
       "      <td>n13054560</td>\n",
       "      <td>bolete</td>\n",
       "      <td>bolete</td>\n",
       "    </tr>\n",
       "    <tr>\n",
       "      <th>998</th>\n",
       "      <td>[n13133613, ear, spike, capitulum]</td>\n",
       "      <td>n13133613</td>\n",
       "      <td>ear, spike, capitulum</td>\n",
       "      <td>ear</td>\n",
       "    </tr>\n",
       "    <tr>\n",
       "      <th>999</th>\n",
       "      <td>[n15075141, toilet tissue, toilet paper, bathr...</td>\n",
       "      <td>n15075141</td>\n",
       "      <td>toilet tissue, toilet paper, bathroom tissue</td>\n",
       "      <td>toilet tissue</td>\n",
       "    </tr>\n",
       "  </tbody>\n",
       "</table>\n",
       "<p>1000 rows × 4 columns</p>\n",
       "</div>"
      ],
      "text/plain": [
       "                                               mapping     synset  \\\n",
       "0                      [n01440764, tench, Tinca tinca]  n01440764   \n",
       "1             [n01443537, goldfish, Carassius auratus]  n01443537   \n",
       "2    [n01484850, great white shark, white shark, ma...  n01484850   \n",
       "3         [n01491361, tiger shark, Galeocerdo cuvieri]  n01491361   \n",
       "4            [n01494475, hammerhead, hammerhead shark]  n01494475   \n",
       "..                                                 ...        ...   \n",
       "995                             [n13044778, earthstar]  n13044778   \n",
       "996  [n13052670, hen-of-the-woods, hen of the woods...  n13052670   \n",
       "997                                [n13054560, bolete]  n13054560   \n",
       "998                 [n13133613, ear, spike, capitulum]  n13133613   \n",
       "999  [n15075141, toilet tissue, toilet paper, bathr...  n15075141   \n",
       "\n",
       "                                                 words        single_term  \n",
       "0                                   tench, tinca tinca              tench  \n",
       "1                          goldfish, carassius auratus           goldfish  \n",
       "2    great white shark, white shark, man-eater, man...  great white shark  \n",
       "3                      tiger shark, galeocerdo cuvieri        tiger shark  \n",
       "4                         hammerhead, hammerhead shark         hammerhead  \n",
       "..                                                 ...                ...  \n",
       "995                                          earthstar          earthstar  \n",
       "996  hen-of-the-woods, hen of the woods, polyporus ...   hen-of-the-woods  \n",
       "997                                             bolete             bolete  \n",
       "998                              ear, spike, capitulum                ear  \n",
       "999       toilet tissue, toilet paper, bathroom tissue      toilet tissue  \n",
       "\n",
       "[1000 rows x 4 columns]"
      ]
     },
     "execution_count": 6,
     "metadata": {},
     "output_type": "execute_result"
    }
   ],
   "source": [
    "#@title synset labels mapping\n",
    "\n",
    "PATH = '/workspace/synset_words.txt'\n",
    "\n",
    "with open(PATH) as f:\n",
    "    lines = [line.rstrip() for line in f]\n",
    "\n",
    "synset_labels = pd.Series(lines).map(lambda x: x.split(' ', 1))\n",
    "synset_labels = pd.DataFrame(synset_labels, columns = ['mapping'])\n",
    "synset_labels['synset'] = synset_labels['mapping'].map(lambda x: x[0])\n",
    "\n",
    "# exp. 2, taking only the first set of description as embedding target\n",
    "\n",
    "synset_labels['words'] = synset_labels['mapping'].map(lambda x: x[1].lower().translate(str.maketrans('', '', re.sub('\\-|\\,', '', string.punctuation))))\n",
    "synset_labels['single_term'] = synset_labels['words'].map(lambda x: x.split(',')[0])\n",
    "synset_labels"
   ]
  },
  {
   "cell_type": "code",
   "execution_count": 30,
   "id": "592a5c28-c1a3-4abc-ace5-40f2e2962113",
   "metadata": {},
   "outputs": [],
   "source": [
    "#@title image files\n",
    "\n",
    "IMG_PATH = '/workspace/ILSVRC2012_img_val/'\n",
    "filenames = truth['ImageId'].map(lambda x: f'{IMG_PATH}{x}.JPEG').reset_index(drop = True)"
   ]
  },
  {
   "cell_type": "code",
   "execution_count": 8,
   "id": "09a44900-0385-40c0-8581-6d57d1fb4be7",
   "metadata": {},
   "outputs": [
    {
     "name": "stderr",
     "output_type": "stream",
     "text": [
      "/opt/conda/lib/python3.7/site-packages/clip/clip.py:57: UserWarning: /root/.cache/clip/ViT-B-32.pt exists, but the SHA256 checksum does not match; re-downloading the file\n",
      "  warnings.warn(f\"{download_target} exists, but the SHA256 checksum does not match; re-downloading the file\")\n",
      "100%|███████████████████████████████████████| 338M/338M [00:34<00:00, 10.2MiB/s]\n"
     ]
    }
   ],
   "source": [
    "#@title set device & create model\n",
    "\n",
    "device = \"cuda\" if torch.cuda.is_available() else \"cpu\"\n",
    "model, preprocess = clip.load(\"ViT-B/32\", device=device)"
   ]
  },
  {
   "cell_type": "code",
   "execution_count": 11,
   "id": "5d37963b-9dc0-426f-b8ae-4a6ca21610bb",
   "metadata": {},
   "outputs": [
    {
     "name": "stdout",
     "output_type": "stream",
     "text": [
      "preds_1k.csv saved! 255.75778365135193\n",
      "preds_2k.csv saved! 258.0606269836426\n",
      "preds_3k.csv saved! 258.1417591571808\n",
      "preds_4k.csv saved! 257.7300350666046\n",
      "preds_5k.csv saved! 257.8815743923187\n"
     ]
    }
   ],
   "source": [
    "#@title CLIP classifier examples\n",
    "\n",
    "N = 1000\n",
    "\n",
    "labels = synset_labels['single_term']\n",
    "text = clip.tokenize(labels).to(device)\n",
    "\n",
    "with torch.no_grad():\n",
    "  text_features = model.encode_text(text)\n",
    "  \n",
    "  for i in range(5):\n",
    "    \n",
    "    preds = []\n",
    "\n",
    "    start = time.time()\n",
    "    \n",
    "    for j in range(i * N, i * N + N):\n",
    "\n",
    "      PATH = filenames[j]\n",
    "      image = preprocess(Image.open(str(PATH))).unsqueeze(0).to(device)\n",
    "\n",
    "      image_features = model.encode_image(image)\n",
    "      \n",
    "      logits_per_image, logits_per_text = model(image, text)\n",
    "      probs = logits_per_image.softmax(dim=-1).cpu().numpy()\n",
    "\n",
    "      preds.append(probs[0])\n",
    "    \n",
    "    preds_batch = pd.DataFrame(preds)\n",
    "    preds_batch.to_csv(f'/workspace/preds_02/preds_{i+1}k.csv', index=False)\n",
    "    duration = time.time() - start\n",
    "    print(f'preds_{i+1}k.csv saved!', duration)\n",
    "    \n",
    "    image, image_features, preds_batch = None, None, None\n",
    "    gc.collect()"
   ]
  },
  {
   "cell_type": "markdown",
   "id": "e926f135-0b57-4aaa-aa04-9bbe99f5f98b",
   "metadata": {
    "tags": []
   },
   "source": [
    "### Experiment 3"
   ]
  },
  {
   "cell_type": "code",
   "execution_count": 30,
   "id": "b5a7f3e0-3bcc-44bc-bde4-5f2b15e1b62f",
   "metadata": {},
   "outputs": [
    {
     "name": "stderr",
     "output_type": "stream",
     "text": [
      "100%|█████████████████████████████████████| 1.26G/1.26G [02:13<00:00, 10.2MiB/s]\n"
     ]
    },
    {
     "name": "stdout",
     "output_type": "stream",
     "text": [
      "total number of parameters: 623258305.\n",
      "preds_1k.csv saved! 723.5701186656952\n",
      "preds_2k.csv saved! 722.6463541984558\n",
      "preds_3k.csv saved! 722.7152602672577\n",
      "preds_4k.csv saved! 722.4449908733368\n",
      "preds_5k.csv saved! 722.5220715999603\n",
      "preds_6k.csv saved! 722.4453015327454\n",
      "preds_7k.csv saved! 722.4998171329498\n",
      "preds_8k.csv saved! 722.4210135936737\n",
      "preds_9k.csv saved! 722.6207797527313\n",
      "preds_10k.csv saved! 722.7291519641876\n",
      "preds_11k.csv saved! 722.7533469200134\n",
      "preds_12k.csv saved! 722.6446599960327\n",
      "preds_13k.csv saved! 723.0684010982513\n",
      "preds_14k.csv saved! 722.9709951877594\n",
      "preds_15k.csv saved! 722.9316759109497\n",
      "preds_16k.csv saved! 722.7477905750275\n",
      "preds_17k.csv saved! 722.911239862442\n",
      "preds_18k.csv saved! 723.1533415317535\n",
      "preds_19k.csv saved! 722.9051961898804\n",
      "preds_20k.csv saved! 722.8734028339386\n",
      "preds_21k.csv saved! 722.6805186271667\n",
      "preds_22k.csv saved! 722.6690745353699\n",
      "preds_23k.csv saved! 722.8009505271912\n",
      "preds_24k.csv saved! 722.669401884079\n",
      "preds_25k.csv saved! 722.7364962100983\n",
      "preds_26k.csv saved! 722.7018253803253\n",
      "preds_27k.csv saved! 722.6967327594757\n",
      "preds_29k.csv saved! 723.047242641449\n",
      "preds_30k.csv saved! 722.6025841236115\n",
      "preds_31k.csv saved! 722.7949945926666\n",
      "preds_32k.csv saved! 722.4578924179077\n",
      "preds_33k.csv saved! 722.6844489574432\n",
      "preds_34k.csv saved! 722.9522595405579\n",
      "preds_35k.csv saved! 722.7272255420685\n",
      "preds_36k.csv saved! 722.8371324539185\n",
      "preds_37k.csv saved! 722.460791349411\n",
      "preds_38k.csv saved! 723.0965232849121\n",
      "preds_39k.csv saved! 722.7523763179779\n",
      "preds_40k.csv saved! 722.8686935901642\n",
      "preds_41k.csv saved! 722.6549670696259\n",
      "preds_42k.csv saved! 722.6400601863861\n",
      "preds_43k.csv saved! 722.5384013652802\n",
      "preds_44k.csv saved! 722.7694354057312\n",
      "preds_45k.csv saved! 722.6693251132965\n",
      "preds_46k.csv saved! 722.740843296051\n",
      "preds_47k.csv saved! 723.0368738174438\n",
      "preds_48k.csv saved! 722.6071810722351\n",
      "preds_49k.csv saved! 723.2682127952576\n",
      "preds_50k.csv saved! 722.699658870697\n"
     ]
    }
   ],
   "source": [
    "infer_pipe(pretrained_model = 'RN50x64', exp = '03')"
   ]
  },
  {
   "cell_type": "markdown",
   "id": "3ce45011-33a1-4b35-97d0-39eb96a2a524",
   "metadata": {
    "tags": []
   },
   "source": [
    "### Experiment 4"
   ]
  },
  {
   "cell_type": "code",
   "execution_count": 34,
   "id": "9c8864bc-978f-4cdc-8d11-5ac9a6f26d69",
   "metadata": {},
   "outputs": [
    {
     "name": "stderr",
     "output_type": "stream",
     "text": [
      "100%|███████████████████████████████████████| 891M/891M [02:22<00:00, 6.53MiB/s]\n"
     ]
    },
    {
     "name": "stdout",
     "output_type": "stream",
     "text": [
      "total number of parameters: 427944193.\n",
      "preds_1k.csv saved! 475.2574827671051\n",
      "preds_2k.csv saved! 475.2695982456207\n",
      "preds_3k.csv saved! 475.2157151699066\n",
      "preds_4k.csv saved! 474.95254254341125\n",
      "preds_5k.csv saved! 475.0481209754944\n",
      "preds_6k.csv saved! 475.0319013595581\n",
      "preds_10k.csv saved! 475.2324342727661\n",
      "preds_11k.csv saved! 475.253778219223\n",
      "preds_12k.csv saved! 475.0516633987427\n",
      "preds_13k.csv saved! 475.56936979293823\n",
      "preds_14k.csv saved! 475.35669016838074\n",
      "preds_15k.csv saved! 475.4551296234131\n",
      "preds_16k.csv saved! 475.12925815582275\n",
      "preds_17k.csv saved! 475.2387068271637\n",
      "preds_18k.csv saved! 475.6053817272186\n",
      "preds_19k.csv saved! 475.27045607566833\n",
      "preds_20k.csv saved! 475.3283622264862\n",
      "preds_21k.csv saved! 475.178674697876\n",
      "preds_22k.csv saved! 475.10363578796387\n",
      "preds_23k.csv saved! 475.28603053092957\n",
      "preds_24k.csv saved! 475.2000398635864\n",
      "preds_25k.csv saved! 475.2415509223938\n",
      "preds_26k.csv saved! 475.27772307395935\n",
      "preds_27k.csv saved! 475.19736766815186\n",
      "preds_28k.csv saved! 475.1510863304138\n",
      "preds_29k.csv saved! 475.6240487098694\n",
      "preds_30k.csv saved! 475.2199914455414\n",
      "preds_31k.csv saved! 475.1907527446747\n",
      "preds_32k.csv saved! 474.9402675628662\n",
      "preds_33k.csv saved! 475.0999422073364\n",
      "preds_34k.csv saved! 475.301292181015\n",
      "preds_35k.csv saved! 475.2677049636841\n",
      "preds_36k.csv saved! 475.28654384613037\n",
      "preds_37k.csv saved! 474.863810300827\n",
      "preds_38k.csv saved! 475.5846252441406\n",
      "preds_39k.csv saved! 475.14828991889954\n",
      "preds_40k.csv saved! 475.34737515449524\n",
      "preds_41k.csv saved! 475.10170698165894\n",
      "preds_42k.csv saved! 475.18465638160706\n",
      "preds_44k.csv saved! 475.17957615852356\n",
      "preds_45k.csv saved! 475.1453046798706\n",
      "preds_46k.csv saved! 475.30919575691223\n",
      "preds_47k.csv saved! 475.64219856262207\n",
      "preds_48k.csv saved! 475.26180243492126\n",
      "preds_49k.csv saved! 475.6901321411133\n",
      "preds_50k.csv saved! 475.1385188102722\n"
     ]
    }
   ],
   "source": [
    "infer_pipe(pretrained_model = 'ViT-L/14@336px', exp = '04')"
   ]
  },
  {
   "cell_type": "markdown",
   "id": "ec7afb65-b3c7-4904-ab64-03410d9cd565",
   "metadata": {},
   "source": [
    "### Experiment 5"
   ]
  },
  {
   "cell_type": "code",
   "execution_count": 14,
   "id": "5a6380bc-0acd-4d32-9c0b-744e4a74ca74",
   "metadata": {},
   "outputs": [],
   "source": [
    "synset_labels.loc[168, 'words'] = 'redbone coonhound'"
   ]
  },
  {
   "cell_type": "code",
   "execution_count": 15,
   "id": "1327aa5b-bd9f-4dec-afc2-4ec7b36fcdc1",
   "metadata": {},
   "outputs": [
    {
     "data": {
      "text/html": [
       "<div>\n",
       "<style scoped>\n",
       "    .dataframe tbody tr th:only-of-type {\n",
       "        vertical-align: middle;\n",
       "    }\n",
       "\n",
       "    .dataframe tbody tr th {\n",
       "        vertical-align: top;\n",
       "    }\n",
       "\n",
       "    .dataframe thead th {\n",
       "        text-align: right;\n",
       "    }\n",
       "</style>\n",
       "<table border=\"1\" class=\"dataframe\">\n",
       "  <thead>\n",
       "    <tr style=\"text-align: right;\">\n",
       "      <th></th>\n",
       "      <th>mapping</th>\n",
       "      <th>synset</th>\n",
       "      <th>words</th>\n",
       "    </tr>\n",
       "  </thead>\n",
       "  <tbody>\n",
       "    <tr>\n",
       "      <th>168</th>\n",
       "      <td>[n02090379, redbone]</td>\n",
       "      <td>n02090379</td>\n",
       "      <td>redbone coonhound</td>\n",
       "    </tr>\n",
       "  </tbody>\n",
       "</table>\n",
       "</div>"
      ],
      "text/plain": [
       "                  mapping     synset              words\n",
       "168  [n02090379, redbone]  n02090379  redbone coonhound"
      ]
     },
     "execution_count": 15,
     "metadata": {},
     "output_type": "execute_result"
    }
   ],
   "source": [
    "synset_labels[synset_labels['words'] == 'redbone coonhound']"
   ]
  },
  {
   "cell_type": "code",
   "execution_count": 16,
   "id": "8787c4a9-7d95-4ad1-a8ef-3b0b0c9f3427",
   "metadata": {},
   "outputs": [
    {
     "data": {
      "text/plain": [
       "1000"
      ]
     },
     "execution_count": 16,
     "metadata": {},
     "output_type": "execute_result"
    }
   ],
   "source": [
    "len(synset_labels)"
   ]
  },
  {
   "cell_type": "code",
   "execution_count": 15,
   "id": "0fac8198-9ca8-4942-9137-b65d239716a6",
   "metadata": {},
   "outputs": [
    {
     "data": {
      "text/plain": [
       "Int64Index([ 1266,  1362,  1861,  2932,  5492,  5807,  6395,  8165,  8271,\n",
       "             8697,  9347, 11112, 11175, 11797, 15884, 17002, 18326, 20738,\n",
       "            21574, 23100, 23154, 24042, 24485, 24949, 25695, 26735, 28005,\n",
       "            30695, 31820, 31948, 32745, 33048, 33093, 34023, 35487, 35688,\n",
       "            35911, 37854, 38736, 39021, 40355, 41590, 41687, 42441, 43387,\n",
       "            43887, 44443, 46431, 46752, 49765],\n",
       "           dtype='int64')"
      ]
     },
     "execution_count": 15,
     "metadata": {},
     "output_type": "execute_result"
    }
   ],
   "source": [
    "truth[truth['synset_labels'] == 'n02090379'].index"
   ]
  },
  {
   "cell_type": "code",
   "execution_count": 16,
   "id": "f7ef6a73-7cbb-4538-8101-1036c937b9bf",
   "metadata": {},
   "outputs": [
    {
     "data": {
      "text/plain": [
       "0        /workspace/ILSVRC2012_img_val/ILSVRC2012_val_0...\n",
       "1        /workspace/ILSVRC2012_img_val/ILSVRC2012_val_0...\n",
       "2        /workspace/ILSVRC2012_img_val/ILSVRC2012_val_0...\n",
       "3        /workspace/ILSVRC2012_img_val/ILSVRC2012_val_0...\n",
       "4        /workspace/ILSVRC2012_img_val/ILSVRC2012_val_0...\n",
       "                               ...                        \n",
       "49995    /workspace/ILSVRC2012_img_val/ILSVRC2012_val_0...\n",
       "49996    /workspace/ILSVRC2012_img_val/ILSVRC2012_val_0...\n",
       "49997    /workspace/ILSVRC2012_img_val/ILSVRC2012_val_0...\n",
       "49998    /workspace/ILSVRC2012_img_val/ILSVRC2012_val_0...\n",
       "49999    /workspace/ILSVRC2012_img_val/ILSVRC2012_val_0...\n",
       "Name: ImageId, Length: 50000, dtype: object"
      ]
     },
     "execution_count": 16,
     "metadata": {},
     "output_type": "execute_result"
    }
   ],
   "source": [
    "filenames"
   ]
  },
  {
   "cell_type": "code",
   "execution_count": 17,
   "id": "138a1d7c-25f8-4ce2-9534-adf04c50490a",
   "metadata": {},
   "outputs": [],
   "source": [
    "filenames_n02090379 = filenames[filenames.index.isin(truth[truth['synset_labels'] == 'n02090379'].index)]"
   ]
  },
  {
   "cell_type": "code",
   "execution_count": 21,
   "id": "cdbb3d7a-6ec3-497b-913b-58920f596249",
   "metadata": {},
   "outputs": [
    {
     "name": "stdout",
     "output_type": "stream",
     "text": [
      "total number of parameters: 151277313.\n",
      "preds_1k.csv saved! 12.663532972335815\n"
     ]
    }
   ],
   "source": [
    "infer_pipe(pretrained_model = 'ViT-B/32', N = 50, target = 'words', num_batch = 1, exp = '05', filenames = filenames_n02090379)"
   ]
  },
  {
   "cell_type": "code",
   "execution_count": 24,
   "id": "19c84165-e850-43d7-96b1-12684161a016",
   "metadata": {},
   "outputs": [
    {
     "name": "stdout",
     "output_type": "stream",
     "text": [
      "total number of parameters: 151277313.\n",
      "preds_1k.csv saved! 265.68636870384216\n",
      "preds_2k.csv saved! 266.8919777870178\n",
      "preds_3k.csv saved! 266.77229833602905\n",
      "preds_4k.csv saved! 266.4753510951996\n",
      "preds_5k.csv saved! 266.63124656677246\n",
      "preds_6k.csv saved! 266.5339879989624\n",
      "preds_7k.csv saved! 266.6189911365509\n",
      "preds_8k.csv saved! 266.4862344264984\n",
      "preds_9k.csv saved! 266.6978032588959\n",
      "preds_10k.csv saved! 266.9317035675049\n",
      "preds_11k.csv saved! 266.71081709861755\n",
      "preds_12k.csv saved! 266.58709383010864\n",
      "preds_13k.csv saved! 267.00905084609985\n",
      "preds_14k.csv saved! 266.9247872829437\n",
      "preds_15k.csv saved! 266.792197227478\n",
      "preds_16k.csv saved! 266.63494181632996\n",
      "preds_17k.csv saved! 266.715003490448\n",
      "preds_18k.csv saved! 267.1524381637573\n",
      "preds_19k.csv saved! 266.9397072792053\n",
      "preds_20k.csv saved! 266.82797050476074\n",
      "preds_21k.csv saved! 266.70872497558594\n",
      "preds_22k.csv saved! 266.56342482566833\n",
      "preds_23k.csv saved! 266.7542688846588\n",
      "preds_24k.csv saved! 266.6470172405243\n",
      "preds_25k.csv saved! 266.67112731933594\n",
      "preds_26k.csv saved! 266.74168252944946\n",
      "preds_27k.csv saved! 266.56199526786804\n",
      "preds_28k.csv saved! 266.66860127449036\n",
      "preds_29k.csv saved! 267.1329951286316\n",
      "preds_30k.csv saved! 266.74434065818787\n",
      "preds_31k.csv saved! 266.83122849464417\n",
      "preds_32k.csv saved! 266.6095452308655\n",
      "preds_33k.csv saved! 266.6784598827362\n",
      "preds_34k.csv saved! 266.94375944137573\n",
      "preds_35k.csv saved! 266.83632802963257\n",
      "preds_36k.csv saved! 266.80200242996216\n",
      "preds_37k.csv saved! 266.53886222839355\n",
      "preds_38k.csv saved! 267.04035902023315\n",
      "preds_39k.csv saved! 266.8485972881317\n",
      "preds_40k.csv saved! 266.90162348747253\n",
      "preds_41k.csv saved! 266.4714276790619\n",
      "preds_42k.csv saved! 266.8400022983551\n",
      "preds_43k.csv saved! 266.52903866767883\n",
      "preds_44k.csv saved! 266.84622168540955\n",
      "preds_45k.csv saved! 266.67696166038513\n",
      "preds_46k.csv saved! 266.82922315597534\n",
      "preds_47k.csv saved! 267.0123555660248\n",
      "preds_48k.csv saved! 266.626403093338\n",
      "preds_49k.csv saved! 267.2534942626953\n",
      "preds_50k.csv saved! 266.72054147720337\n"
     ]
    }
   ],
   "source": [
    "infer_pipe(pretrained_model = 'ViT-B/32', exp = '05A', filenames = filenames)"
   ]
  },
  {
   "cell_type": "markdown",
   "id": "35a17544-4243-4780-b96f-524127306b7f",
   "metadata": {},
   "source": [
    "### Experiment 6"
   ]
  },
  {
   "cell_type": "code",
   "execution_count": 22,
   "id": "f9b19f01-ad32-4135-9541-0e7c3675d257",
   "metadata": {},
   "outputs": [
    {
     "name": "stderr",
     "output_type": "stream",
     "text": [
      "100%|███████████████████████████████████████| 891M/891M [01:33<00:00, 10.0MiB/s]\n"
     ]
    },
    {
     "name": "stdout",
     "output_type": "stream",
     "text": [
      "total number of parameters: 427944193.\n",
      "preds_1k.csv saved! 23.373618125915527\n"
     ]
    }
   ],
   "source": [
    "infer_pipe(pretrained_model = 'ViT-L/14@336px', N = 50, target = 'words', num_batch = 1, exp = '06', filenames = filenames_n02090379)"
   ]
  },
  {
   "cell_type": "code",
   "execution_count": null,
   "id": "42dbe639-02d6-4fe7-8ea5-df9bbcb523b7",
   "metadata": {},
   "outputs": [
    {
     "name": "stdout",
     "output_type": "stream",
     "text": [
      "total number of parameters: 427944193.\n",
      "preds_1k.csv saved! 476.6822860240936\n",
      "preds_2k.csv saved! 475.59051537513733\n",
      "preds_3k.csv saved! 475.5950286388397\n",
      "preds_4k.csv saved! 475.1951127052307\n",
      "preds_5k.csv saved! 475.22230219841003\n",
      "preds_6k.csv saved! 475.3377058506012\n",
      "preds_7k.csv saved! 475.3007035255432\n",
      "preds_8k.csv saved! 475.131290435791\n",
      "preds_9k.csv saved! 475.33287811279297\n",
      "preds_10k.csv saved! 475.40201592445374\n",
      "preds_11k.csv saved! 475.4406340122223\n",
      "preds_12k.csv saved! 475.21579790115356\n",
      "preds_13k.csv saved! 475.7755637168884\n",
      "preds_14k.csv saved! 475.6451003551483\n",
      "preds_15k.csv saved! 475.67120838165283\n",
      "preds_16k.csv saved! 475.418172121048\n",
      "preds_17k.csv saved! 475.6698079109192\n",
      "preds_18k.csv saved! 475.9453375339508\n",
      "preds_19k.csv saved! 475.7512104511261\n",
      "preds_20k.csv saved! 475.70912170410156\n",
      "preds_21k.csv saved! 475.46031641960144\n",
      "preds_30k.csv saved! 475.59962344169617\n",
      "preds_31k.csv saved! 475.6789562702179\n",
      "preds_32k.csv saved! 475.38918471336365\n",
      "preds_33k.csv saved! 475.538770198822\n",
      "preds_34k.csv saved! 475.7661154270172\n",
      "preds_35k.csv saved! 475.5534152984619\n",
      "preds_36k.csv saved! 475.59834837913513\n",
      "preds_37k.csv saved! 475.2109229564667\n",
      "preds_38k.csv saved! 475.92349004745483\n",
      "preds_39k.csv saved! 475.61011123657227\n",
      "preds_40k.csv saved! 475.7081232070923\n",
      "preds_42k.csv saved! 475.54927134513855\n"
     ]
    }
   ],
   "source": [
    "infer_pipe(pretrained_model = 'ViT-L/14@336px', exp = '06A', filenames = filenames)"
   ]
  },
  {
   "cell_type": "markdown",
   "id": "a656c612-928b-4431-af41-0ff66119b828",
   "metadata": {
    "tags": []
   },
   "source": [
    "### Experiment 7"
   ]
  },
  {
   "cell_type": "code",
   "execution_count": 12,
   "id": "a0f2fdc7-86b9-470d-bcfa-d9e8418bfba7",
   "metadata": {},
   "outputs": [
    {
     "data": {
      "text/plain": [
       "mapping    [n02090379, redbone]\n",
       "synset                n02090379\n",
       "words         redbone coonhound\n",
       "Name: 168, dtype: object"
      ]
     },
     "execution_count": 12,
     "metadata": {},
     "output_type": "execute_result"
    }
   ],
   "source": [
    "idx = synset_labels[synset_labels['words'] == 'redbone'].index[0]\n",
    "synset_labels.loc[idx, 'words'] = 'redbone coonhound'\n",
    "synset_labels.iloc[idx]"
   ]
  },
  {
   "cell_type": "code",
   "execution_count": 13,
   "id": "8f110534-704c-4c59-8a08-efff960ff092",
   "metadata": {},
   "outputs": [
    {
     "data": {
      "text/plain": [
       "mapping    [n04325704, stole]\n",
       "synset              n04325704\n",
       "words       stole scarf shawl\n",
       "Name: 824, dtype: object"
      ]
     },
     "execution_count": 13,
     "metadata": {},
     "output_type": "execute_result"
    }
   ],
   "source": [
    "idx = synset_labels[synset_labels['words'] == 'stole'].index[0]\n",
    "synset_labels.loc[idx, 'words'] = 'stole scarf shawl'\n",
    "synset_labels.iloc[idx]"
   ]
  },
  {
   "cell_type": "code",
   "execution_count": 14,
   "id": "0f3bab7c-f733-4b60-bf09-72ff50f44215",
   "metadata": {},
   "outputs": [
    {
     "name": "stdout",
     "output_type": "stream",
     "text": [
      "total number of parameters: 427944193.\n",
      "preds_1k.csv saved! 476.6612913608551\n",
      "preds_2k.csv saved! 475.4137833118439\n",
      "preds_3k.csv saved! 475.5848217010498\n",
      "preds_4k.csv saved! 475.2093925476074\n",
      "preds_5k.csv saved! 475.3602192401886\n",
      "preds_6k.csv saved! 475.25270771980286\n",
      "preds_7k.csv saved! 475.3604357242584\n",
      "preds_8k.csv saved! 475.32327938079834\n",
      "preds_9k.csv saved! 475.96876096725464\n",
      "preds_10k.csv saved! 476.3752210140228\n",
      "preds_11k.csv saved! 483.757600069046\n",
      "preds_12k.csv saved! 483.70049500465393\n",
      "preds_13k.csv saved! 484.03154587745667\n",
      "preds_14k.csv saved! 483.89209055900574\n",
      "preds_15k.csv saved! 483.99609088897705\n",
      "preds_16k.csv saved! 483.69059920310974\n",
      "preds_17k.csv saved! 483.87818217277527\n",
      "preds_18k.csv saved! 484.1745665073395\n",
      "preds_19k.csv saved! 484.0274488925934\n",
      "preds_20k.csv saved! 483.9296669960022\n",
      "preds_21k.csv saved! 483.8079788684845\n",
      "preds_22k.csv saved! 483.6524531841278\n",
      "preds_23k.csv saved! 483.7693841457367\n",
      "preds_24k.csv saved! 483.112149477005\n",
      "preds_25k.csv saved! 483.09428691864014\n",
      "preds_26k.csv saved! 483.0525496006012\n",
      "preds_27k.csv saved! 483.0397524833679\n",
      "preds_28k.csv saved! 483.00892400741577\n",
      "preds_29k.csv saved! 483.4618911743164\n",
      "preds_30k.csv saved! 482.91452836990356\n",
      "preds_31k.csv saved! 483.231383562088\n",
      "preds_32k.csv saved! 482.7278301715851\n",
      "preds_33k.csv saved! 482.9380328655243\n",
      "preds_34k.csv saved! 483.31010818481445\n",
      "preds_35k.csv saved! 482.97909331321716\n",
      "preds_36k.csv saved! 483.1455912590027\n",
      "preds_37k.csv saved! 482.73250365257263\n",
      "preds_38k.csv saved! 483.34956192970276\n",
      "preds_40k.csv saved! 483.3991506099701\n",
      "preds_41k.csv saved! 482.9586446285248\n",
      "preds_42k.csv saved! 483.2717008590698\n",
      "preds_43k.csv saved! 482.8807306289673\n",
      "preds_44k.csv saved! 483.10080885887146\n",
      "preds_45k.csv saved! 482.92987871170044\n",
      "preds_46k.csv saved! 483.0960440635681\n",
      "preds_47k.csv saved! 483.3540120124817\n",
      "preds_48k.csv saved! 482.7706186771393\n",
      "preds_49k.csv saved! 483.46911549568176\n",
      "preds_50k.csv saved! 483.0124888420105\n"
     ]
    }
   ],
   "source": [
    "infer_pipe(pretrained_model = 'ViT-L/14@336px', exp = '07', filenames = filenames)"
   ]
  },
  {
   "cell_type": "markdown",
   "id": "ae61160a-836f-45d3-8dfc-792a8e5e96fd",
   "metadata": {},
   "source": [
    "### Experiment 8"
   ]
  },
  {
   "cell_type": "code",
   "execution_count": null,
   "id": "8d1eeae2-acac-46df-bbee-0192054a0f32",
   "metadata": {},
   "outputs": [],
   "source": [
    "idx = synset_labels[synset_labels['words'] == 'redbone'].index[0]\n",
    "synset_labels.loc[idx, 'words'] = 'redbone coonhound'\n",
    "synset_labels.iloc[idx]"
   ]
  },
  {
   "cell_type": "code",
   "execution_count": null,
   "id": "09d02374-6c34-4015-8e3e-ac0b97d38f97",
   "metadata": {},
   "outputs": [],
   "source": [
    "idx = synset_labels[synset_labels['words'] == 'stole'].index[0]\n",
    "synset_labels.loc[idx, 'words'] = 'stole scarf shawl'\n",
    "synset_labels.iloc[idx]"
   ]
  },
  {
   "cell_type": "code",
   "execution_count": 16,
   "id": "b19f8fc5-b18c-4d80-b063-c8877dcc58c5",
   "metadata": {},
   "outputs": [
    {
     "data": {
      "text/plain": [
       "mapping                                    [n04612504, yawl]\n",
       "synset                                             n04612504\n",
       "words      yawl a two-masted fore-and-aft-rigged sailboat...\n",
       "Name: 914, dtype: object"
      ]
     },
     "execution_count": 16,
     "metadata": {},
     "output_type": "execute_result"
    }
   ],
   "source": [
    "idx = synset_labels[synset_labels['words'] == 'yawl'].index[0]\n",
    "synset_labels.loc[idx, 'words'] = 'yawl a two-masted fore-and-aft-rigged sailboat with the mizzenmast stepped far aft so that the mizzen boom overhangs the stern'\n",
    "synset_labels.iloc[idx]"
   ]
  },
  {
   "cell_type": "code",
   "execution_count": 18,
   "id": "ee8f4e9f-00b7-4358-be77-bfe50702dfd4",
   "metadata": {},
   "outputs": [
    {
     "name": "stdout",
     "output_type": "stream",
     "text": [
      "total number of parameters: 427944193.\n",
      "preds_1k.csv saved! 474.7779424190521\n",
      "preds_2k.csv saved! 475.6876986026764\n",
      "preds_3k.csv saved! 475.6837935447693\n",
      "preds_4k.csv saved! 475.3853225708008\n",
      "preds_6k.csv saved! 475.690083026886\n",
      "preds_7k.csv saved! 475.9188516139984\n",
      "preds_8k.csv saved! 475.7276632785797\n",
      "preds_9k.csv saved! 475.50074100494385\n",
      "preds_10k.csv saved! 475.622759103775\n",
      "preds_11k.csv saved! 475.6400909423828\n",
      "preds_12k.csv saved! 475.5251898765564\n",
      "preds_13k.csv saved! 476.02331614494324\n",
      "preds_14k.csv saved! 475.9444818496704\n",
      "preds_15k.csv saved! 475.89088201522827\n",
      "preds_16k.csv saved! 475.61802315711975\n",
      "preds_17k.csv saved! 475.66472816467285\n",
      "preds_18k.csv saved! 476.00608134269714\n",
      "preds_19k.csv saved! 475.75237822532654\n",
      "preds_21k.csv saved! 475.5383687019348\n",
      "preds_22k.csv saved! 475.4537236690521\n",
      "preds_23k.csv saved! 475.6552028656006\n",
      "preds_24k.csv saved! 475.583535194397\n",
      "preds_25k.csv saved! 475.62280106544495\n",
      "preds_26k.csv saved! 475.66553688049316\n",
      "preds_27k.csv saved! 475.410138130188\n",
      "preds_28k.csv saved! 475.4501943588257\n",
      "preds_29k.csv saved! 475.94899129867554\n",
      "preds_30k.csv saved! 475.57685565948486\n",
      "preds_31k.csv saved! 475.66290259361267\n",
      "preds_32k.csv saved! 475.42337799072266\n",
      "preds_33k.csv saved! 475.63361167907715\n",
      "preds_34k.csv saved! 475.8976926803589\n",
      "preds_35k.csv saved! 475.7094087600708\n",
      "preds_36k.csv saved! 475.78785943984985\n",
      "preds_37k.csv saved! 475.29454159736633\n",
      "preds_38k.csv saved! 475.89878940582275\n",
      "preds_39k.csv saved! 475.647882938385\n",
      "preds_40k.csv saved! 475.69519543647766\n",
      "preds_41k.csv saved! 475.48799753189087\n",
      "preds_42k.csv saved! 475.6491503715515\n",
      "preds_43k.csv saved! 475.4724831581116\n",
      "preds_44k.csv saved! 475.6573283672333\n",
      "preds_45k.csv saved! 475.49342489242554\n",
      "preds_46k.csv saved! 475.5916872024536\n",
      "preds_47k.csv saved! 475.97868180274963\n",
      "preds_48k.csv saved! 475.438960313797\n",
      "preds_49k.csv saved! 476.1174955368042\n",
      "preds_50k.csv saved! 475.53954339027405\n"
     ]
    }
   ],
   "source": [
    "infer_pipe(pretrained_model = 'ViT-L/14@336px', exp = '08', filenames = filenames)"
   ]
  },
  {
   "cell_type": "markdown",
   "id": "f000609f-39dd-409e-a45b-0beb1904ed6c",
   "metadata": {},
   "source": [
    "### Experiment 9"
   ]
  },
  {
   "cell_type": "code",
   "execution_count": 12,
   "id": "bd652e03-374f-4e78-aab3-1b843c0915e3",
   "metadata": {},
   "outputs": [
    {
     "data": {
      "text/plain": [
       "mapping    [n02090379, redbone]\n",
       "synset                n02090379\n",
       "words         redbone coonhound\n",
       "Name: 168, dtype: object"
      ]
     },
     "execution_count": 12,
     "metadata": {},
     "output_type": "execute_result"
    }
   ],
   "source": [
    "idx = synset_labels[synset_labels['words'] == 'redbone'].index[0]\n",
    "synset_labels.loc[idx, 'words'] = 'redbone coonhound'\n",
    "synset_labels.iloc[idx]"
   ]
  },
  {
   "cell_type": "code",
   "execution_count": 13,
   "id": "e1e28d02-79a4-432b-9663-7562a4c2c410",
   "metadata": {},
   "outputs": [
    {
     "data": {
      "text/plain": [
       "mapping    [n04325704, stole]\n",
       "synset              n04325704\n",
       "words       stole scarf shawl\n",
       "Name: 824, dtype: object"
      ]
     },
     "execution_count": 13,
     "metadata": {},
     "output_type": "execute_result"
    }
   ],
   "source": [
    "idx = synset_labels[synset_labels['words'] == 'stole'].index[0]\n",
    "synset_labels.loc[idx, 'words'] = 'stole scarf shawl'\n",
    "synset_labels.iloc[idx]"
   ]
  },
  {
   "cell_type": "code",
   "execution_count": 14,
   "id": "16544e3d-fd6d-4d9f-9c22-2db8d1e9676a",
   "metadata": {},
   "outputs": [
    {
     "data": {
      "text/plain": [
       "mapping                                    [n04612504, yawl]\n",
       "synset                                             n04612504\n",
       "words      yawl a two-masted fore-and-aft-rigged sailboat...\n",
       "Name: 914, dtype: object"
      ]
     },
     "execution_count": 14,
     "metadata": {},
     "output_type": "execute_result"
    }
   ],
   "source": [
    "idx = synset_labels[synset_labels['words'] == 'yawl'].index[0]\n",
    "synset_labels.loc[idx, 'words'] = 'yawl a two-masted fore-and-aft-rigged sailboat with the mizzenmast stepped far aft so that the mizzen boom overhangs the stern'\n",
    "synset_labels.iloc[idx]"
   ]
  },
  {
   "cell_type": "code",
   "execution_count": 15,
   "id": "347f4bf4-121a-45b1-a61d-8556e3bcdabb",
   "metadata": {},
   "outputs": [
    {
     "data": {
      "text/plain": [
       "mapping                                [n04147183, schooner]\n",
       "synset                                             n04147183\n",
       "words      schooner a sailing ship with two or more masts...\n",
       "Name: 780, dtype: object"
      ]
     },
     "execution_count": 15,
     "metadata": {},
     "output_type": "execute_result"
    }
   ],
   "source": [
    "idx = synset_labels[synset_labels['words'] == 'schooner'].index[0]\n",
    "synset_labels.loc[idx, 'words'] = 'schooner a sailing ship with two or more masts typically with the foremast smaller than the mainmast and having gaff-rigged lower masts'\n",
    "synset_labels.iloc[idx]"
   ]
  },
  {
   "cell_type": "code",
   "execution_count": 16,
   "id": "aa9d5022-911d-4831-8371-8ecdc0ea957d",
   "metadata": {},
   "outputs": [
    {
     "name": "stderr",
     "output_type": "stream",
     "text": [
      "100%|███████████████████████████████████████| 891M/891M [02:17<00:00, 6.81MiB/s]\n"
     ]
    },
    {
     "name": "stdout",
     "output_type": "stream",
     "text": [
      "total number of parameters: 427944193.\n",
      "preds_1k.csv saved! 484.90875601768494\n",
      "preds_2k.csv saved! 485.01882815361023\n",
      "preds_3k.csv saved! 483.9597463607788\n",
      "preds_4k.csv saved! 483.7469074726105\n",
      "preds_5k.csv saved! 483.85817670822144\n",
      "preds_6k.csv saved! 483.8070938587189\n",
      "preds_10k.csv saved! 484.00054025650024\n",
      "preds_11k.csv saved! 484.0163688659668\n",
      "preds_12k.csv saved! 483.86414909362793\n",
      "preds_13k.csv saved! 484.1830222606659\n",
      "preds_14k.csv saved! 484.13636326789856\n",
      "preds_15k.csv saved! 484.1592810153961\n",
      "preds_16k.csv saved! 483.8264248371124\n",
      "preds_17k.csv saved! 484.0268671512604\n",
      "preds_18k.csv saved! 484.3898878097534\n",
      "preds_19k.csv saved! 484.14547777175903\n",
      "preds_20k.csv saved! 483.83469581604004\n",
      "preds_21k.csv saved! 482.966828584671\n",
      "preds_22k.csv saved! 482.9562542438507\n",
      "preds_23k.csv saved! 483.3921241760254\n",
      "preds_24k.csv saved! 483.8566720485687\n",
      "preds_25k.csv saved! 483.9471228122711\n",
      "preds_26k.csv saved! 483.9211070537567\n",
      "preds_27k.csv saved! 483.85203313827515\n",
      "preds_28k.csv saved! 483.9664397239685\n",
      "preds_29k.csv saved! 484.4452407360077\n",
      "preds_30k.csv saved! 483.9705777168274\n",
      "preds_31k.csv saved! 484.1326389312744\n",
      "preds_32k.csv saved! 483.8402771949768\n",
      "preds_33k.csv saved! 484.0972821712494\n",
      "preds_34k.csv saved! 484.3052091598511\n",
      "preds_35k.csv saved! 484.19025921821594\n",
      "preds_36k.csv saved! 484.23575043678284\n",
      "preds_37k.csv saved! 483.7907431125641\n",
      "preds_38k.csv saved! 484.583936214447\n",
      "preds_39k.csv saved! 484.1995985507965\n",
      "preds_40k.csv saved! 484.3384358882904\n",
      "preds_41k.csv saved! 483.98187375068665\n",
      "preds_42k.csv saved! 484.03993248939514\n",
      "preds_43k.csv saved! 483.63042640686035\n",
      "preds_44k.csv saved! 483.9357225894928\n",
      "preds_45k.csv saved! 483.92014265060425\n",
      "preds_46k.csv saved! 483.3519880771637\n",
      "preds_47k.csv saved! 483.4407730102539\n",
      "preds_48k.csv saved! 482.8347239494324\n",
      "preds_49k.csv saved! 483.51420760154724\n",
      "preds_50k.csv saved! 483.0091452598572\n"
     ]
    }
   ],
   "source": [
    "infer_pipe(pretrained_model = 'ViT-L/14@336px', exp = '09', filenames = filenames)"
   ]
  },
  {
   "cell_type": "markdown",
   "id": "ae18d6e0-43dd-4342-9349-0e0fa7f9ef66",
   "metadata": {},
   "source": [
    "### Experiment 10"
   ]
  },
  {
   "cell_type": "code",
   "execution_count": null,
   "id": "35202d89-63fb-4520-9b99-53d92592322f",
   "metadata": {},
   "outputs": [],
   "source": [
    "idx = synset_labels[synset_labels['words'] == 'redbone'].index[0]\n",
    "synset_labels.loc[idx, 'words'] = 'redbone coonhound'\n",
    "synset_labels.iloc[idx]"
   ]
  },
  {
   "cell_type": "code",
   "execution_count": null,
   "id": "fd29108c-a012-4365-ad49-3a30b9706e80",
   "metadata": {},
   "outputs": [],
   "source": [
    "idx = synset_labels[synset_labels['words'] == 'stole'].index[0]\n",
    "synset_labels.loc[idx, 'words'] = 'scarf shawl'\n",
    "synset_labels.iloc[idx]"
   ]
  },
  {
   "cell_type": "code",
   "execution_count": null,
   "id": "65f1215c-c4e1-41df-84f7-192dea16d721",
   "metadata": {},
   "outputs": [],
   "source": [
    "idx = synset_labels[synset_labels['words'] == 'yawl'].index[0]\n",
    "synset_labels.loc[idx, 'words'] = 'yawl two masted fore aft rigged sailboat mizzen boom overhangs stern'\n",
    "synset_labels.iloc[idx]"
   ]
  },
  {
   "cell_type": "code",
   "execution_count": null,
   "id": "00dcffc3-7dfc-483b-81a5-87ebe60bce6e",
   "metadata": {},
   "outputs": [],
   "source": [
    "idx = synset_labels[synset_labels['words'] == 'schooner'].index[0]\n",
    "synset_labels.loc[idx, 'words'] = 'schooner sailing ship the foremast smaller than the mainmast gaff rigged lower masts'\n",
    "synset_labels.iloc[idx]"
   ]
  },
  {
   "cell_type": "code",
   "execution_count": null,
   "id": "3e4156a5-5988-4e5a-8167-129f01b9cb22",
   "metadata": {},
   "outputs": [],
   "source": [
    "idx = synset_labels[synset_labels['words'] == 'nipple'].index[0]\n",
    "synset_labels.loc[idx, 'words'] = 'baby feeding bottle'\n",
    "synset_labels.iloc[idx]"
   ]
  },
  {
   "cell_type": "code",
   "execution_count": null,
   "id": "cd34943d-d991-4d83-9bfe-4b0b7782a2fa",
   "metadata": {},
   "outputs": [],
   "source": [
    "infer_pipe(pretrained_model = 'ViT-L/14@336px', exp = '10', filenames = filenames)"
   ]
  }
 ],
 "metadata": {
  "kernelspec": {
   "display_name": "Python 3 (ipykernel)",
   "language": "python",
   "name": "python3"
  },
  "language_info": {
   "codemirror_mode": {
    "name": "ipython",
    "version": 3
   },
   "file_extension": ".py",
   "mimetype": "text/x-python",
   "name": "python",
   "nbconvert_exporter": "python",
   "pygments_lexer": "ipython3",
   "version": "3.7.13"
  }
 },
 "nbformat": 4,
 "nbformat_minor": 5
}
